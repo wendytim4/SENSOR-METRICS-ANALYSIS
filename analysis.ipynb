{
 "cells": [
  {
   "cell_type": "code",
   "execution_count": 3,
   "id": "978c9f83-32b1-4e9e-8021-8035949e1aaa",
   "metadata": {},
   "outputs": [],
   "source": [
    "import pandas as pd\n",
    "import matplotlib.pyplot as plt\n",
    "%matplotlib inline"
   ]
  },
  {
   "cell_type": "code",
   "execution_count": 5,
   "id": "6556c15a-a07a-4a8d-bbbf-391df755407d",
   "metadata": {},
   "outputs": [
    {
     "data": {
      "text/html": [
       "<div>\n",
       "<style scoped>\n",
       "    .dataframe tbody tr th:only-of-type {\n",
       "        vertical-align: middle;\n",
       "    }\n",
       "\n",
       "    .dataframe tbody tr th {\n",
       "        vertical-align: top;\n",
       "    }\n",
       "\n",
       "    .dataframe thead th {\n",
       "        text-align: right;\n",
       "    }\n",
       "</style>\n",
       "<table border=\"1\" class=\"dataframe\">\n",
       "  <thead>\n",
       "    <tr style=\"text-align: right;\">\n",
       "      <th></th>\n",
       "      <th>Unnamed: 0</th>\n",
       "      <th>date</th>\n",
       "      <th>field</th>\n",
       "      <th>value</th>\n",
       "      <th>device_id</th>\n",
       "    </tr>\n",
       "  </thead>\n",
       "  <tbody>\n",
       "    <tr>\n",
       "      <th>0</th>\n",
       "      <td>0</td>\n",
       "      <td>2022-05-23 05:21:20.242008+00:00</td>\n",
       "      <td>battery_voltage</td>\n",
       "      <td>14.99837</td>\n",
       "      <td>SB1001</td>\n",
       "    </tr>\n",
       "    <tr>\n",
       "      <th>1</th>\n",
       "      <td>1</td>\n",
       "      <td>2022-05-23 05:21:51.183225+00:00</td>\n",
       "      <td>battery_voltage</td>\n",
       "      <td>14.99837</td>\n",
       "      <td>SB1001</td>\n",
       "    </tr>\n",
       "    <tr>\n",
       "      <th>2</th>\n",
       "      <td>2</td>\n",
       "      <td>2022-05-23 05:22:22.381353+00:00</td>\n",
       "      <td>battery_voltage</td>\n",
       "      <td>14.99837</td>\n",
       "      <td>SB1001</td>\n",
       "    </tr>\n",
       "    <tr>\n",
       "      <th>3</th>\n",
       "      <td>3</td>\n",
       "      <td>2022-05-23 05:22:52.605236+00:00</td>\n",
       "      <td>battery_voltage</td>\n",
       "      <td>14.99837</td>\n",
       "      <td>SB1001</td>\n",
       "    </tr>\n",
       "    <tr>\n",
       "      <th>4</th>\n",
       "      <td>4</td>\n",
       "      <td>2022-05-23 05:23:22.870146+00:00</td>\n",
       "      <td>battery_voltage</td>\n",
       "      <td>14.99837</td>\n",
       "      <td>SB1001</td>\n",
       "    </tr>\n",
       "  </tbody>\n",
       "</table>\n",
       "</div>"
      ],
      "text/plain": [
       "   Unnamed: 0                              date            field     value  \\\n",
       "0           0  2022-05-23 05:21:20.242008+00:00  battery_voltage  14.99837   \n",
       "1           1  2022-05-23 05:21:51.183225+00:00  battery_voltage  14.99837   \n",
       "2           2  2022-05-23 05:22:22.381353+00:00  battery_voltage  14.99837   \n",
       "3           3  2022-05-23 05:22:52.605236+00:00  battery_voltage  14.99837   \n",
       "4           4  2022-05-23 05:23:22.870146+00:00  battery_voltage  14.99837   \n",
       "\n",
       "  device_id  \n",
       "0    SB1001  \n",
       "1    SB1001  \n",
       "2    SB1001  \n",
       "3    SB1001  \n",
       "4    SB1001  "
      ]
     },
     "execution_count": 5,
     "metadata": {},
     "output_type": "execute_result"
    }
   ],
   "source": [
    "data_path = 'data/sensor_metrics.csv'\n",
    "df = pd.read_csv(data_path)\n",
    "df.head()"
   ]
  },
  {
   "cell_type": "code",
   "execution_count": 6,
   "id": "978bcb8b-1e06-4838-b2bd-18c0b3d579ff",
   "metadata": {},
   "outputs": [
    {
     "data": {
      "text/plain": [
       "battery_voltage    136464\n",
       "data_balance       136464\n",
       "db_level           136464\n",
       "last_recorded      136464\n",
       "last_uploaded      136464\n",
       "panel_voltage      136464\n",
       "signal_strength    136464\n",
       "Name: field, dtype: int64"
      ]
     },
     "execution_count": 6,
     "metadata": {},
     "output_type": "execute_result"
    }
   ],
   "source": [
    "df['field'].value_counts()"
   ]
  },
  {
   "cell_type": "code",
   "execution_count": 7,
   "id": "018597df-42c8-4cf6-98cd-d3455485094b",
   "metadata": {},
   "outputs": [
    {
     "data": {
      "text/html": [
       "<div>\n",
       "<style scoped>\n",
       "    .dataframe tbody tr th:only-of-type {\n",
       "        vertical-align: middle;\n",
       "    }\n",
       "\n",
       "    .dataframe tbody tr th {\n",
       "        vertical-align: top;\n",
       "    }\n",
       "\n",
       "    .dataframe thead th {\n",
       "        text-align: right;\n",
       "    }\n",
       "</style>\n",
       "<table border=\"1\" class=\"dataframe\">\n",
       "  <thead>\n",
       "    <tr style=\"text-align: right;\">\n",
       "      <th></th>\n",
       "      <th>Unnamed: 0</th>\n",
       "      <th>date</th>\n",
       "      <th>field</th>\n",
       "      <th>value</th>\n",
       "      <th>device_id</th>\n",
       "    </tr>\n",
       "  </thead>\n",
       "  <tbody>\n",
       "    <tr>\n",
       "      <th>272928</th>\n",
       "      <td>272928</td>\n",
       "      <td>2022-05-23 05:21:20.257379+00:00</td>\n",
       "      <td>db_level</td>\n",
       "      <td>80.15035</td>\n",
       "      <td>SB1001</td>\n",
       "    </tr>\n",
       "    <tr>\n",
       "      <th>272929</th>\n",
       "      <td>272929</td>\n",
       "      <td>2022-05-23 05:21:51.194415+00:00</td>\n",
       "      <td>db_level</td>\n",
       "      <td>70.13739</td>\n",
       "      <td>SB1001</td>\n",
       "    </tr>\n",
       "    <tr>\n",
       "      <th>272930</th>\n",
       "      <td>272930</td>\n",
       "      <td>2022-05-23 05:22:22.392657+00:00</td>\n",
       "      <td>db_level</td>\n",
       "      <td>102.26990</td>\n",
       "      <td>SB1001</td>\n",
       "    </tr>\n",
       "    <tr>\n",
       "      <th>272931</th>\n",
       "      <td>272931</td>\n",
       "      <td>2022-05-23 05:22:52.616672+00:00</td>\n",
       "      <td>db_level</td>\n",
       "      <td>78.22692</td>\n",
       "      <td>SB1001</td>\n",
       "    </tr>\n",
       "    <tr>\n",
       "      <th>272932</th>\n",
       "      <td>272932</td>\n",
       "      <td>2022-05-23 05:23:22.881239+00:00</td>\n",
       "      <td>db_level</td>\n",
       "      <td>65.71063</td>\n",
       "      <td>SB1001</td>\n",
       "    </tr>\n",
       "    <tr>\n",
       "      <th>...</th>\n",
       "      <td>...</td>\n",
       "      <td>...</td>\n",
       "      <td>...</td>\n",
       "      <td>...</td>\n",
       "      <td>...</td>\n",
       "    </tr>\n",
       "    <tr>\n",
       "      <th>409387</th>\n",
       "      <td>409387</td>\n",
       "      <td>2022-05-26 22:27:31.855684+00:00</td>\n",
       "      <td>db_level</td>\n",
       "      <td>79.60939</td>\n",
       "      <td>SB1013</td>\n",
       "    </tr>\n",
       "    <tr>\n",
       "      <th>409388</th>\n",
       "      <td>409388</td>\n",
       "      <td>2022-05-26 22:28:02.936844+00:00</td>\n",
       "      <td>db_level</td>\n",
       "      <td>54.64372</td>\n",
       "      <td>SB1013</td>\n",
       "    </tr>\n",
       "    <tr>\n",
       "      <th>409389</th>\n",
       "      <td>409389</td>\n",
       "      <td>2022-05-26 22:30:59.937044+00:00</td>\n",
       "      <td>db_level</td>\n",
       "      <td>0.00000</td>\n",
       "      <td>SB1013</td>\n",
       "    </tr>\n",
       "    <tr>\n",
       "      <th>409390</th>\n",
       "      <td>409390</td>\n",
       "      <td>2022-05-26 22:31:30.896429+00:00</td>\n",
       "      <td>db_level</td>\n",
       "      <td>0.00000</td>\n",
       "      <td>SB1013</td>\n",
       "    </tr>\n",
       "    <tr>\n",
       "      <th>409391</th>\n",
       "      <td>409391</td>\n",
       "      <td>2022-05-26 22:32:01.223286+00:00</td>\n",
       "      <td>db_level</td>\n",
       "      <td>49.67120</td>\n",
       "      <td>SB1013</td>\n",
       "    </tr>\n",
       "  </tbody>\n",
       "</table>\n",
       "<p>136464 rows × 5 columns</p>\n",
       "</div>"
      ],
      "text/plain": [
       "        Unnamed: 0                              date     field      value  \\\n",
       "272928      272928  2022-05-23 05:21:20.257379+00:00  db_level   80.15035   \n",
       "272929      272929  2022-05-23 05:21:51.194415+00:00  db_level   70.13739   \n",
       "272930      272930  2022-05-23 05:22:22.392657+00:00  db_level  102.26990   \n",
       "272931      272931  2022-05-23 05:22:52.616672+00:00  db_level   78.22692   \n",
       "272932      272932  2022-05-23 05:23:22.881239+00:00  db_level   65.71063   \n",
       "...            ...                               ...       ...        ...   \n",
       "409387      409387  2022-05-26 22:27:31.855684+00:00  db_level   79.60939   \n",
       "409388      409388  2022-05-26 22:28:02.936844+00:00  db_level   54.64372   \n",
       "409389      409389  2022-05-26 22:30:59.937044+00:00  db_level    0.00000   \n",
       "409390      409390  2022-05-26 22:31:30.896429+00:00  db_level    0.00000   \n",
       "409391      409391  2022-05-26 22:32:01.223286+00:00  db_level   49.67120   \n",
       "\n",
       "       device_id  \n",
       "272928    SB1001  \n",
       "272929    SB1001  \n",
       "272930    SB1001  \n",
       "272931    SB1001  \n",
       "272932    SB1001  \n",
       "...          ...  \n",
       "409387    SB1013  \n",
       "409388    SB1013  \n",
       "409389    SB1013  \n",
       "409390    SB1013  \n",
       "409391    SB1013  \n",
       "\n",
       "[136464 rows x 5 columns]"
      ]
     },
     "execution_count": 7,
     "metadata": {},
     "output_type": "execute_result"
    }
   ],
   "source": [
    "values=['db_level']\n",
    "df.query(\"field in @values\")"
   ]
  },
  {
   "cell_type": "code",
   "execution_count": 10,
   "id": "b9c31274-c263-4716-abbf-26e5503d50f4",
   "metadata": {},
   "outputs": [
    {
     "name": "stdout",
     "output_type": "stream",
     "text": [
      "SB1007    619962\n",
      "SB1005    127694\n",
      "SB1012    103747\n",
      "SB1001     54376\n",
      "SB1006     26558\n",
      "SB1002     17794\n",
      "SB1013      4802\n",
      "SB1008       315\n",
      "Name: device_id, dtype: int64\n"
     ]
    }
   ],
   "source": [
    "newdb_level=df.query(\"field in @values\")\n",
    "sensors=df['device_id'].value_counts()\n",
    "print(sensors)"
   ]
  },
  {
   "cell_type": "code",
   "execution_count": 11,
   "id": "e74c46ab-84da-4bd1-8ddb-2daa5e4c74c9",
   "metadata": {},
   "outputs": [
    {
     "data": {
      "image/png": "[encoded data removed]",
      "text/plain": [
       "<Figure size 432x288 with 1 Axes>"
      ]
     },
     "metadata": {
      "needs_background": "light"
     },
     "output_type": "display_data"
    }
   ],
   "source": [
    "fig,ax = plt.subplots()\n",
    "sensors.plot(ax = ax, kind = 'bar', ylabel = 'frequency',xlabel='sensor')\n",
    "plt.title('Barplot of each sensor versus its number of records')\n",
    "plt.show()"
   ]
  },
  {
   "cell_type": "code",
   "execution_count": 13,
   "id": "a03e56ea-ad41-48fa-bcf6-f44606508ce7",
   "metadata": {},
   "outputs": [
    {
     "name": "stdout",
     "output_type": "stream",
     "text": [
      "0         05:21:20.242008\n",
      "1         05:21:51.183225\n",
      "2         05:22:22.381353\n",
      "3         05:22:52.605236\n",
      "4         05:23:22.870146\n",
      "               ...       \n",
      "955243    22:27:31.852231\n",
      "955244    22:28:02.933391\n",
      "955245    22:30:59.933363\n",
      "955246    22:31:30.892709\n",
      "955247    22:32:01.219158\n",
      "Name: date, Length: 955248, dtype: object\n"
     ]
    }
   ],
   "source": [
    "time=pd.to_datetime(df['date']).dt.time\n",
    "print(time)"
   ]
  },
  {
   "cell_type": "code",
   "execution_count": 20,
   "id": "901bd16d-4794-4f4c-8ff2-d9f4aa853d41",
   "metadata": {},
   "outputs": [
    {
     "ename": "ValueError",
     "evalue": "Shape of passed values is (2, 1), indices imply (955248, 1)",
     "output_type": "error",
     "traceback": [
      "\u001b[1;31m---------------------------------------------------------------------------\u001b[0m",
      "\u001b[1;31mValueError\u001b[0m                                Traceback (most recent call last)",
      "Input \u001b[1;32mIn [20]\u001b[0m, in \u001b[0;36m<cell line: 1>\u001b[1;34m()\u001b[0m\n\u001b[1;32m----> 1\u001b[0m data_lineplot\u001b[38;5;241m=\u001b[39m\u001b[43mpd\u001b[49m\u001b[38;5;241;43m.\u001b[39;49m\u001b[43mDataFrame\u001b[49m\u001b[43m(\u001b[49m\u001b[43m{\u001b[49m\u001b[38;5;124;43m\"\u001b[39;49m\u001b[38;5;124;43mdb_level\u001b[39;49m\u001b[38;5;124;43m\"\u001b[39;49m\u001b[43m,\u001b[49m\u001b[38;5;124;43m\"\u001b[39;49m\u001b[38;5;124;43msensor\u001b[39;49m\u001b[38;5;124;43m\"\u001b[39;49m\u001b[43m}\u001b[49m\u001b[43m,\u001b[49m\u001b[43m \u001b[49m\u001b[43mindex\u001b[49m\u001b[38;5;241;43m=\u001b[39;49m\u001b[43mtime\u001b[49m\u001b[43m)\u001b[49m\n\u001b[0;32m      2\u001b[0m line\u001b[38;5;241m=\u001b[39mdata_lineplot\u001b[38;5;241m.\u001b[39mplot\u001b[38;5;241m.\u001b[39mline()\n\u001b[0;32m      3\u001b[0m \u001b[38;5;28mprint\u001b[39m(line)\n",
      "File \u001b[1;32mc:\\users\\lenovo\\desktop\\demo\\sensor-metrics-analysis\\venv\\lib\\site-packages\\pandas\\core\\frame.py:737\u001b[0m, in \u001b[0;36mDataFrame.__init__\u001b[1;34m(self, data, index, columns, dtype, copy)\u001b[0m\n\u001b[0;32m    729\u001b[0m         mgr \u001b[38;5;241m=\u001b[39m arrays_to_mgr(\n\u001b[0;32m    730\u001b[0m             arrays,\n\u001b[0;32m    731\u001b[0m             columns,\n\u001b[1;32m   (...)\u001b[0m\n\u001b[0;32m    734\u001b[0m             typ\u001b[38;5;241m=\u001b[39mmanager,\n\u001b[0;32m    735\u001b[0m         )\n\u001b[0;32m    736\u001b[0m     \u001b[38;5;28;01melse\u001b[39;00m:\n\u001b[1;32m--> 737\u001b[0m         mgr \u001b[38;5;241m=\u001b[39m \u001b[43mndarray_to_mgr\u001b[49m\u001b[43m(\u001b[49m\n\u001b[0;32m    738\u001b[0m \u001b[43m            \u001b[49m\u001b[43mdata\u001b[49m\u001b[43m,\u001b[49m\n\u001b[0;32m    739\u001b[0m \u001b[43m            \u001b[49m\u001b[43mindex\u001b[49m\u001b[43m,\u001b[49m\n\u001b[0;32m    740\u001b[0m \u001b[43m            \u001b[49m\u001b[43mcolumns\u001b[49m\u001b[43m,\u001b[49m\n\u001b[0;32m    741\u001b[0m \u001b[43m            \u001b[49m\u001b[43mdtype\u001b[49m\u001b[38;5;241;43m=\u001b[39;49m\u001b[43mdtype\u001b[49m\u001b[43m,\u001b[49m\n\u001b[0;32m    742\u001b[0m \u001b[43m            \u001b[49m\u001b[43mcopy\u001b[49m\u001b[38;5;241;43m=\u001b[39;49m\u001b[43mcopy\u001b[49m\u001b[43m,\u001b[49m\n\u001b[0;32m    743\u001b[0m \u001b[43m            \u001b[49m\u001b[43mtyp\u001b[49m\u001b[38;5;241;43m=\u001b[39;49m\u001b[43mmanager\u001b[49m\u001b[43m,\u001b[49m\n\u001b[0;32m    744\u001b[0m \u001b[43m        \u001b[49m\u001b[43m)\u001b[49m\n\u001b[0;32m    745\u001b[0m \u001b[38;5;28;01melse\u001b[39;00m:\n\u001b[0;32m    746\u001b[0m     mgr \u001b[38;5;241m=\u001b[39m dict_to_mgr(\n\u001b[0;32m    747\u001b[0m         {},\n\u001b[0;32m    748\u001b[0m         index,\n\u001b[1;32m   (...)\u001b[0m\n\u001b[0;32m    751\u001b[0m         typ\u001b[38;5;241m=\u001b[39mmanager,\n\u001b[0;32m    752\u001b[0m     )\n",
      "File \u001b[1;32mc:\\users\\lenovo\\desktop\\demo\\sensor-metrics-analysis\\venv\\lib\\site-packages\\pandas\\core\\internals\\construction.py:351\u001b[0m, in \u001b[0;36mndarray_to_mgr\u001b[1;34m(values, index, columns, dtype, copy, typ)\u001b[0m\n\u001b[0;32m    346\u001b[0m \u001b[38;5;66;03m# _prep_ndarray ensures that values.ndim == 2 at this point\u001b[39;00m\n\u001b[0;32m    347\u001b[0m index, columns \u001b[38;5;241m=\u001b[39m _get_axes(\n\u001b[0;32m    348\u001b[0m     values\u001b[38;5;241m.\u001b[39mshape[\u001b[38;5;241m0\u001b[39m], values\u001b[38;5;241m.\u001b[39mshape[\u001b[38;5;241m1\u001b[39m], index\u001b[38;5;241m=\u001b[39mindex, columns\u001b[38;5;241m=\u001b[39mcolumns\n\u001b[0;32m    349\u001b[0m )\n\u001b[1;32m--> 351\u001b[0m \u001b[43m_check_values_indices_shape_match\u001b[49m\u001b[43m(\u001b[49m\u001b[43mvalues\u001b[49m\u001b[43m,\u001b[49m\u001b[43m \u001b[49m\u001b[43mindex\u001b[49m\u001b[43m,\u001b[49m\u001b[43m \u001b[49m\u001b[43mcolumns\u001b[49m\u001b[43m)\u001b[49m\n\u001b[0;32m    353\u001b[0m \u001b[38;5;28;01mif\u001b[39;00m typ \u001b[38;5;241m==\u001b[39m \u001b[38;5;124m\"\u001b[39m\u001b[38;5;124marray\u001b[39m\u001b[38;5;124m\"\u001b[39m:\n\u001b[0;32m    355\u001b[0m     \u001b[38;5;28;01mif\u001b[39;00m \u001b[38;5;28missubclass\u001b[39m(values\u001b[38;5;241m.\u001b[39mdtype\u001b[38;5;241m.\u001b[39mtype, \u001b[38;5;28mstr\u001b[39m):\n",
      "File \u001b[1;32mc:\\users\\lenovo\\desktop\\demo\\sensor-metrics-analysis\\venv\\lib\\site-packages\\pandas\\core\\internals\\construction.py:422\u001b[0m, in \u001b[0;36m_check_values_indices_shape_match\u001b[1;34m(values, index, columns)\u001b[0m\n\u001b[0;32m    420\u001b[0m passed \u001b[38;5;241m=\u001b[39m values\u001b[38;5;241m.\u001b[39mshape\n\u001b[0;32m    421\u001b[0m implied \u001b[38;5;241m=\u001b[39m (\u001b[38;5;28mlen\u001b[39m(index), \u001b[38;5;28mlen\u001b[39m(columns))\n\u001b[1;32m--> 422\u001b[0m \u001b[38;5;28;01mraise\u001b[39;00m \u001b[38;5;167;01mValueError\u001b[39;00m(\u001b[38;5;124mf\u001b[39m\u001b[38;5;124m\"\u001b[39m\u001b[38;5;124mShape of passed values is \u001b[39m\u001b[38;5;132;01m{\u001b[39;00mpassed\u001b[38;5;132;01m}\u001b[39;00m\u001b[38;5;124m, indices imply \u001b[39m\u001b[38;5;132;01m{\u001b[39;00mimplied\u001b[38;5;132;01m}\u001b[39;00m\u001b[38;5;124m\"\u001b[39m)\n",
      "\u001b[1;31mValueError\u001b[0m: Shape of passed values is (2, 1), indices imply (955248, 1)"
     ]
    }
   ],
   "source": [
    "data_lineplot=pd.DataFrame({\"db_level\",\"sensor\"}, index=time)\n",
    "line=data_lineplot.plot.line()\n",
    "print(line)"
   ]
  }
 ],
 "metadata": {
  "kernelspec": {
   "display_name": "Python 3 (ipykernel)",
   "language": "python",
   "name": "python3"
  },
  "language_info": {
   "codemirror_mode": {
    "name": "ipython",
    "version": 3
   },
   "file_extension": ".py",
   "mimetype": "text/x-python",
   "name": "python",
   "nbconvert_exporter": "python",
   "pygments_lexer": "ipython3",
   "version": "3.9.4"
  },
  "toc-showcode": false,
  "toc-showtags": false,
  "vscode": {
   "interpreter": {
    "hash": "37b867bd0d15537691c4cb44377d70e5b42e44d230dcf603dc4825f8f9e4d6a0"
   }
  }
 },
 "nbformat": 4,
 "nbformat_minor": 5
}

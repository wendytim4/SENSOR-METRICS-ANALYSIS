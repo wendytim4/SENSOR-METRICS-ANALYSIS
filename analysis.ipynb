{
 "cells": [
  {
   "cell_type": "code",
   "execution_count": 2,
   "metadata": {},
   "outputs": [
    {
     "ename": "ModuleNotFoundError",
     "evalue": "No module named 'pandas'",
     "output_type": "error",
     "traceback": [
      "\u001b[1;31m---------------------------------------------------------------------------\u001b[0m",
      "\u001b[1;31mModuleNotFoundError\u001b[0m                       Traceback (most recent call last)",
      "\u001b[1;32mc:\\Users\\LENOVO\\Desktop\\demo\\sensor-metrics-analysis\\analysis.ipynb Cell 1\u001b[0m in \u001b[0;36m<cell line: 1>\u001b[1;34m()\u001b[0m\n\u001b[1;32m----> <a href='vscode-notebook-cell:/c%3A/Users/LENOVO/Desktop/demo/sensor-metrics-analysis/analysis.ipynb#ch0000000?line=0'>1</a>\u001b[0m \u001b[39mimport\u001b[39;00m \u001b[39mpandas\u001b[39;00m \u001b[39mas\u001b[39;00m \u001b[39mpd\u001b[39;00m\n\u001b[0;32m      <a href='vscode-notebook-cell:/c%3A/Users/LENOVO/Desktop/demo/sensor-metrics-analysis/analysis.ipynb#ch0000000?line=1'>2</a>\u001b[0m \u001b[39mimport\u001b[39;00m \u001b[39mseaborn\u001b[39;00m \u001b[39mas\u001b[39;00m \u001b[39msns\u001b[39;00m\n\u001b[0;32m      <a href='vscode-notebook-cell:/c%3A/Users/LENOVO/Desktop/demo/sensor-metrics-analysis/analysis.ipynb#ch0000000?line=2'>3</a>\u001b[0m \u001b[39mimport\u001b[39;00m \u001b[39mmatplotlib\u001b[39;00m\u001b[39m.\u001b[39;00m\u001b[39mpyplot\u001b[39;00m \u001b[39mas\u001b[39;00m \u001b[39mplt\u001b[39;00m\n",
      "\u001b[1;31mModuleNotFoundError\u001b[0m: No module named 'pandas'"
     ]
    }
   ],
   "source": [
    "import pandas as pd\n",
    "import seaborn as sns\n",
    "import matplotlib.pyplot as plt\n",
    "%matplotlib inline"
   ]
  },
  {
   "cell_type": "code",
   "execution_count": null,
   "metadata": {},
   "outputs": [
    {
     "data": {
      "text/html": [
       "<div>\n",
       "<style scoped>\n",
       "    .dataframe tbody tr th:only-of-type {\n",
       "        vertical-align: middle;\n",
       "    }\n",
       "\n",
       "    .dataframe tbody tr th {\n",
       "        vertical-align: top;\n",
       "    }\n",
       "\n",
       "    .dataframe thead th {\n",
       "        text-align: right;\n",
       "    }\n",
       "</style>\n",
       "<table border=\"1\" class=\"dataframe\">\n",
       "  <thead>\n",
       "    <tr style=\"text-align: right;\">\n",
       "      <th></th>\n",
       "      <th>Unnamed: 0</th>\n",
       "      <th>date</th>\n",
       "      <th>field</th>\n",
       "      <th>value</th>\n",
       "      <th>device_id</th>\n",
       "    </tr>\n",
       "  </thead>\n",
       "  <tbody>\n",
       "    <tr>\n",
       "      <th>0</th>\n",
       "      <td>0</td>\n",
       "      <td>2022-05-23 05:21:20.242008+00:00</td>\n",
       "      <td>battery_voltage</td>\n",
       "      <td>14.99837</td>\n",
       "      <td>SB1001</td>\n",
       "    </tr>\n",
       "    <tr>\n",
       "      <th>1</th>\n",
       "      <td>1</td>\n",
       "      <td>2022-05-23 05:21:51.183225+00:00</td>\n",
       "      <td>battery_voltage</td>\n",
       "      <td>14.99837</td>\n",
       "      <td>SB1001</td>\n",
       "    </tr>\n",
       "    <tr>\n",
       "      <th>2</th>\n",
       "      <td>2</td>\n",
       "      <td>2022-05-23 05:22:22.381353+00:00</td>\n",
       "      <td>battery_voltage</td>\n",
       "      <td>14.99837</td>\n",
       "      <td>SB1001</td>\n",
       "    </tr>\n",
       "    <tr>\n",
       "      <th>3</th>\n",
       "      <td>3</td>\n",
       "      <td>2022-05-23 05:22:52.605236+00:00</td>\n",
       "      <td>battery_voltage</td>\n",
       "      <td>14.99837</td>\n",
       "      <td>SB1001</td>\n",
       "    </tr>\n",
       "    <tr>\n",
       "      <th>4</th>\n",
       "      <td>4</td>\n",
       "      <td>2022-05-23 05:23:22.870146+00:00</td>\n",
       "      <td>battery_voltage</td>\n",
       "      <td>14.99837</td>\n",
       "      <td>SB1001</td>\n",
       "    </tr>\n",
       "  </tbody>\n",
       "</table>\n",
       "</div>"
      ],
      "text/plain": [
       "   Unnamed: 0                              date            field     value  \\\n",
       "0           0  2022-05-23 05:21:20.242008+00:00  battery_voltage  14.99837   \n",
       "1           1  2022-05-23 05:21:51.183225+00:00  battery_voltage  14.99837   \n",
       "2           2  2022-05-23 05:22:22.381353+00:00  battery_voltage  14.99837   \n",
       "3           3  2022-05-23 05:22:52.605236+00:00  battery_voltage  14.99837   \n",
       "4           4  2022-05-23 05:23:22.870146+00:00  battery_voltage  14.99837   \n",
       "\n",
       "  device_id  \n",
       "0    SB1001  \n",
       "1    SB1001  \n",
       "2    SB1001  \n",
       "3    SB1001  \n",
       "4    SB1001  "
      ]
     },
     "execution_count": 178,
     "metadata": {},
     "output_type": "execute_result"
    }
   ],
   "source": [
    "data_path = 'data/sensor_metrics.csv'\n",
    "df = pd.read_csv(data_path)\n",
    "df.head()"
   ]
  },
  {
   "cell_type": "code",
   "execution_count": null,
   "metadata": {},
   "outputs": [
    {
     "data": {
      "text/plain": [
       "SB1007    88566\n",
       "SB1005    18242\n",
       "SB1012    14821\n",
       "SB1001     7768\n",
       "SB1006     3794\n",
       "SB1002     2542\n",
       "SB1013      686\n",
       "SB1008       45\n",
       "Name: device_id, dtype: int64"
      ]
     },
     "execution_count": 179,
     "metadata": {},
     "output_type": "execute_result"
    }
   ],
   "source": [
    "newdb_level=df[df.field == \"db_level\"]\n",
    "sensors=newdb_level['device_id'].value_counts()\n",
    "sensors"
   ]
  },
  {
   "cell_type": "code",
   "execution_count": null,
   "metadata": {},
   "outputs": [
    {
     "data": {
      "image/png": "[encoded data removed]",
      "text/plain": [
       "<Figure size 432x288 with 1 Axes>"
      ]
     },
     "metadata": {
      "needs_background": "light"
     },
     "output_type": "display_data"
    }
   ],
   "source": [
    "fig,ax = plt.subplots()\n",
    "sensors.plot(ax = ax, kind = 'bar', ylabel = 'frequency',xlabel='sensor')\n",
    "plt.title('Barplot of each sensor versus its number of records')\n",
    "plt.show()"
   ]
  },
  {
   "cell_type": "code",
   "execution_count": null,
   "metadata": {},
   "outputs": [
    {
     "name": "stdout",
     "output_type": "stream",
     "text": [
      "                                     field     value device_id\n",
      "date                                                          \n",
      "2022-05-23 06:00:23.309680+00:00  db_level   0.00000    SB1001\n",
      "2022-05-23 06:00:54.391818+00:00  db_level   0.00000    SB1001\n",
      "2022-05-23 06:01:25.533352+00:00  db_level   0.00000    SB1001\n",
      "2022-05-23 06:01:56.571408+00:00  db_level  66.89312    SB1001\n",
      "2022-05-23 06:02:27.798305+00:00  db_level   0.00000    SB1001\n",
      "...                                    ...       ...       ...\n",
      "2022-05-26 21:56:16.106519+00:00  db_level   0.00000    SB1013\n",
      "2022-05-26 21:56:47.019381+00:00  db_level  49.88344    SB1013\n",
      "2022-05-26 21:57:17.250872+00:00  db_level   0.00000    SB1013\n",
      "2022-05-26 21:57:51.178404+00:00  db_level  80.27057    SB1013\n",
      "2022-05-26 21:58:21.388177+00:00  db_level  53.82508    SB1013\n",
      "\n",
      "[98180 rows x 3 columns]\n"
     ]
    },
    {
     "data": {
      "text/plain": [
       "SB1007    88566\n",
       "SB1005    18242\n",
       "SB1012    14821\n",
       "SB1001     7768\n",
       "SB1006     3794\n",
       "SB1002     2542\n",
       "SB1013      686\n",
       "SB1008       45\n",
       "Name: device_id, dtype: int64"
      ]
     },
     "execution_count": 181,
     "metadata": {},
     "output_type": "execute_result"
    }
   ],
   "source": [
    "import datetime\n",
    "newdb_level = newdb_level.drop(columns=['Unnamed: 0'])\n",
    "newdb_level = newdb_level.set_index('date')\n",
    "newdb_level.index =pd.to_datetime(newdb_level.index)\n",
    "newdb_level.head()\n",
    "print(newdb_level.between_time('6:00','22:00'))\n",
    "time_6_22 = ts['device_id'].value_counts()\n",
    "time_6_22\n",
    "\n"
   ]
  },
  {
   "cell_type": "code",
   "execution_count": null,
   "metadata": {},
   "outputs": [
    {
     "name": "stdout",
     "output_type": "stream",
     "text": [
      "                                     field      value device_id\n",
      "date                                                           \n",
      "2022-05-23 05:21:20.257379+00:00  db_level   80.15035    SB1001\n",
      "2022-05-23 05:21:51.194415+00:00  db_level   70.13739    SB1001\n",
      "2022-05-23 05:22:22.392657+00:00  db_level  102.26990    SB1001\n",
      "2022-05-23 05:22:52.616672+00:00  db_level   78.22692    SB1001\n",
      "2022-05-23 05:23:22.881239+00:00  db_level   65.71063    SB1001\n",
      "...                                    ...        ...       ...\n",
      "2022-05-26 22:27:31.855684+00:00  db_level   79.60939    SB1013\n",
      "2022-05-26 22:28:02.936844+00:00  db_level   54.64372    SB1013\n",
      "2022-05-26 22:30:59.937044+00:00  db_level    0.00000    SB1013\n",
      "2022-05-26 22:31:30.896429+00:00  db_level    0.00000    SB1013\n",
      "2022-05-26 22:32:01.223286+00:00  db_level   49.67120    SB1013\n",
      "\n",
      "[38284 rows x 3 columns]\n"
     ]
    },
    {
     "data": {
      "text/plain": [
       "SB1007    33514\n",
       "SB1001     2701\n",
       "SB1005     1258\n",
       "SB1002      740\n",
       "SB1013       43\n",
       "SB1008       28\n",
       "Name: device_id, dtype: int64"
      ]
     },
     "execution_count": 183,
     "metadata": {},
     "output_type": "execute_result"
    }
   ],
   "source": [
    "dd = newdb_level.between_time('22:00','6:00')\n",
    "print(dd)\n",
    "time_22_6 = dd['device_id'].value_counts()\n",
    "time_22_6"
   ]
  },
  {
   "cell_type": "code",
   "execution_count": null,
   "metadata": {},
   "outputs": [
    {
     "data": {
      "text/plain": [
       "<AxesSubplot:xlabel='date', ylabel='value'>"
      ]
     },
     "execution_count": 184,
     "metadata": {},
     "output_type": "execute_result"
    },
    {
     "data": {
      "image/png": "[encoded data removed]",
      "text/plain": [
       "<Figure size 432x288 with 1 Axes>"
      ]
     },
     "metadata": {
      "needs_background": "light"
     },
     "output_type": "display_data"
    }
   ],
   "source": [
    "\n",
    "#sns.lineplot(data=newdb_level, x=\"time\", y=\"value\",hue=\"device_id\")\n",
    "newdb_level['date']=newdb_level.index\n",
    "def lineplot__(deviceid, x=\"date\", y=\"value\" ):\n",
    "    newdb=newdb_level[newdb_level.field == \"db_level\"]\n",
    "    newdb_level['date']=newdb_level.index\n",
    "    return sns.lineplot(data=newdb, x=\"date\", y=\"value\")\n",
    "\n",
    "lineplot__(\"SB1007\")\n",
    "lineplot__(\"SB1005\")\n",
    "lineplot__(\"SB10012\")\n",
    "lineplot__(\"SB1001\")\n",
    "lineplot__(\"SB1006\")\n",
    "lineplot__(\"SB1002\")\n",
    "lineplot__(\"SB10013\")\n",
    "lineplot__(\"SB1008\")\n",
    "\n",
    "#newdb_SB1007=newdb_level[newdb_level.device_id == \"SB1007\"]\n",
    "#sns.lineplot(data=newdb_SB1007, x=\"date\", y=\"value\")\n",
    "\n"
   ]
  },
  {
   "cell_type": "code",
   "execution_count": null,
   "metadata": {},
   "outputs": [],
   "source": []
  }
 ],
 "metadata": {
  "kernelspec": {
   "display_name": "Python 3 (ipykernel)",
   "language": "python",
   "name": "python3"
  },
  "language_info": {
   "codemirror_mode": {
    "name": "ipython",
    "version": 3
   },
   "file_extension": ".py",
   "mimetype": "text/x-python",
   "name": "python",
   "nbconvert_exporter": "python",
   "pygments_lexer": "ipython3",
   "version": "3.9.4"
  },
  "vscode": {
   "interpreter": {
    "hash": "e31aef8222fb7c235d2ed8e74ce17e973738f89b37261e7466b7a63a6dfb1214"
   }
  }
 },
 "nbformat": 4,
 "nbformat_minor": 4
}

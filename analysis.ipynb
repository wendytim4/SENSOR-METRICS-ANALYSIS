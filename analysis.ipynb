{
 "cells": [
  {
   "cell_type": "code",
   "execution_count": 27,
   "id": "978c9f83-32b1-4e9e-8021-8035949e1aaa",
   "metadata": {},
   "outputs": [],
   "source": [
    "import pandas as pd\n",
    "from plotnine import ggplot, aes, geom_line\n",
    "import matplotlib.pyplot as plt\n",
    "%matplotlib inline"
   ]
  },
  {
   "cell_type": "code",
   "execution_count": 28,
   "id": "6556c15a-a07a-4a8d-bbbf-391df755407d",
   "metadata": {},
   "outputs": [
    {
     "data": {
      "text/html": [
       "<div>\n",
       "<style scoped>\n",
       "    .dataframe tbody tr th:only-of-type {\n",
       "        vertical-align: middle;\n",
       "    }\n",
       "\n",
       "    .dataframe tbody tr th {\n",
       "        vertical-align: top;\n",
       "    }\n",
       "\n",
       "    .dataframe thead th {\n",
       "        text-align: right;\n",
       "    }\n",
       "</style>\n",
       "<table border=\"1\" class=\"dataframe\">\n",
       "  <thead>\n",
       "    <tr style=\"text-align: right;\">\n",
       "      <th></th>\n",
       "      <th>Unnamed: 0</th>\n",
       "      <th>date</th>\n",
       "      <th>field</th>\n",
       "      <th>value</th>\n",
       "      <th>device_id</th>\n",
       "    </tr>\n",
       "  </thead>\n",
       "  <tbody>\n",
       "    <tr>\n",
       "      <th>0</th>\n",
       "      <td>0</td>\n",
       "      <td>2022-05-23 05:21:20.242008+00:00</td>\n",
       "      <td>battery_voltage</td>\n",
       "      <td>14.99837</td>\n",
       "      <td>SB1001</td>\n",
       "    </tr>\n",
       "    <tr>\n",
       "      <th>1</th>\n",
       "      <td>1</td>\n",
       "      <td>2022-05-23 05:21:51.183225+00:00</td>\n",
       "      <td>battery_voltage</td>\n",
       "      <td>14.99837</td>\n",
       "      <td>SB1001</td>\n",
       "    </tr>\n",
       "    <tr>\n",
       "      <th>2</th>\n",
       "      <td>2</td>\n",
       "      <td>2022-05-23 05:22:22.381353+00:00</td>\n",
       "      <td>battery_voltage</td>\n",
       "      <td>14.99837</td>\n",
       "      <td>SB1001</td>\n",
       "    </tr>\n",
       "    <tr>\n",
       "      <th>3</th>\n",
       "      <td>3</td>\n",
       "      <td>2022-05-23 05:22:52.605236+00:00</td>\n",
       "      <td>battery_voltage</td>\n",
       "      <td>14.99837</td>\n",
       "      <td>SB1001</td>\n",
       "    </tr>\n",
       "    <tr>\n",
       "      <th>4</th>\n",
       "      <td>4</td>\n",
       "      <td>2022-05-23 05:23:22.870146+00:00</td>\n",
       "      <td>battery_voltage</td>\n",
       "      <td>14.99837</td>\n",
       "      <td>SB1001</td>\n",
       "    </tr>\n",
       "  </tbody>\n",
       "</table>\n",
       "</div>"
      ],
      "text/plain": [
       "   Unnamed: 0                              date            field     value  \\\n",
       "0           0  2022-05-23 05:21:20.242008+00:00  battery_voltage  14.99837   \n",
       "1           1  2022-05-23 05:21:51.183225+00:00  battery_voltage  14.99837   \n",
       "2           2  2022-05-23 05:22:22.381353+00:00  battery_voltage  14.99837   \n",
       "3           3  2022-05-23 05:22:52.605236+00:00  battery_voltage  14.99837   \n",
       "4           4  2022-05-23 05:23:22.870146+00:00  battery_voltage  14.99837   \n",
       "\n",
       "  device_id  \n",
       "0    SB1001  \n",
       "1    SB1001  \n",
       "2    SB1001  \n",
       "3    SB1001  \n",
       "4    SB1001  "
      ]
     },
     "execution_count": 28,
     "metadata": {},
     "output_type": "execute_result"
    }
   ],
   "source": [
    "data_path = 'data/sensor_metrics.csv'\n",
    "df = pd.read_csv(data_path)\n",
    "df.head()"
   ]
  },
  {
   "cell_type": "code",
   "execution_count": 29,
   "id": "978bcb8b-1e06-4838-b2bd-18c0b3d579ff",
   "metadata": {},
   "outputs": [
    {
     "data": {
      "text/plain": [
       "battery_voltage    136464\n",
       "data_balance       136464\n",
       "db_level           136464\n",
       "last_recorded      136464\n",
       "last_uploaded      136464\n",
       "panel_voltage      136464\n",
       "signal_strength    136464\n",
       "Name: field, dtype: int64"
      ]
     },
     "execution_count": 29,
     "metadata": {},
     "output_type": "execute_result"
    }
   ],
   "source": [
    "df['field'].value_counts()"
   ]
  },
  {
   "cell_type": "code",
   "execution_count": 30,
   "id": "018597df-42c8-4cf6-98cd-d3455485094b",
   "metadata": {},
   "outputs": [
    {
     "data": {
      "text/html": [
       "<div>\n",
       "<style scoped>\n",
       "    .dataframe tbody tr th:only-of-type {\n",
       "        vertical-align: middle;\n",
       "    }\n",
       "\n",
       "    .dataframe tbody tr th {\n",
       "        vertical-align: top;\n",
       "    }\n",
       "\n",
       "    .dataframe thead th {\n",
       "        text-align: right;\n",
       "    }\n",
       "</style>\n",
       "<table border=\"1\" class=\"dataframe\">\n",
       "  <thead>\n",
       "    <tr style=\"text-align: right;\">\n",
       "      <th></th>\n",
       "      <th>Unnamed: 0</th>\n",
       "      <th>date</th>\n",
       "      <th>field</th>\n",
       "      <th>value</th>\n",
       "      <th>device_id</th>\n",
       "    </tr>\n",
       "  </thead>\n",
       "  <tbody>\n",
       "    <tr>\n",
       "      <th>272928</th>\n",
       "      <td>272928</td>\n",
       "      <td>2022-05-23 05:21:20.257379+00:00</td>\n",
       "      <td>db_level</td>\n",
       "      <td>80.15035</td>\n",
       "      <td>SB1001</td>\n",
       "    </tr>\n",
       "    <tr>\n",
       "      <th>272929</th>\n",
       "      <td>272929</td>\n",
       "      <td>2022-05-23 05:21:51.194415+00:00</td>\n",
       "      <td>db_level</td>\n",
       "      <td>70.13739</td>\n",
       "      <td>SB1001</td>\n",
       "    </tr>\n",
       "    <tr>\n",
       "      <th>272930</th>\n",
       "      <td>272930</td>\n",
       "      <td>2022-05-23 05:22:22.392657+00:00</td>\n",
       "      <td>db_level</td>\n",
       "      <td>102.26990</td>\n",
       "      <td>SB1001</td>\n",
       "    </tr>\n",
       "    <tr>\n",
       "      <th>272931</th>\n",
       "      <td>272931</td>\n",
       "      <td>2022-05-23 05:22:52.616672+00:00</td>\n",
       "      <td>db_level</td>\n",
       "      <td>78.22692</td>\n",
       "      <td>SB1001</td>\n",
       "    </tr>\n",
       "    <tr>\n",
       "      <th>272932</th>\n",
       "      <td>272932</td>\n",
       "      <td>2022-05-23 05:23:22.881239+00:00</td>\n",
       "      <td>db_level</td>\n",
       "      <td>65.71063</td>\n",
       "      <td>SB1001</td>\n",
       "    </tr>\n",
       "    <tr>\n",
       "      <th>...</th>\n",
       "      <td>...</td>\n",
       "      <td>...</td>\n",
       "      <td>...</td>\n",
       "      <td>...</td>\n",
       "      <td>...</td>\n",
       "    </tr>\n",
       "    <tr>\n",
       "      <th>409387</th>\n",
       "      <td>409387</td>\n",
       "      <td>2022-05-26 22:27:31.855684+00:00</td>\n",
       "      <td>db_level</td>\n",
       "      <td>79.60939</td>\n",
       "      <td>SB1013</td>\n",
       "    </tr>\n",
       "    <tr>\n",
       "      <th>409388</th>\n",
       "      <td>409388</td>\n",
       "      <td>2022-05-26 22:28:02.936844+00:00</td>\n",
       "      <td>db_level</td>\n",
       "      <td>54.64372</td>\n",
       "      <td>SB1013</td>\n",
       "    </tr>\n",
       "    <tr>\n",
       "      <th>409389</th>\n",
       "      <td>409389</td>\n",
       "      <td>2022-05-26 22:30:59.937044+00:00</td>\n",
       "      <td>db_level</td>\n",
       "      <td>0.00000</td>\n",
       "      <td>SB1013</td>\n",
       "    </tr>\n",
       "    <tr>\n",
       "      <th>409390</th>\n",
       "      <td>409390</td>\n",
       "      <td>2022-05-26 22:31:30.896429+00:00</td>\n",
       "      <td>db_level</td>\n",
       "      <td>0.00000</td>\n",
       "      <td>SB1013</td>\n",
       "    </tr>\n",
       "    <tr>\n",
       "      <th>409391</th>\n",
       "      <td>409391</td>\n",
       "      <td>2022-05-26 22:32:01.223286+00:00</td>\n",
       "      <td>db_level</td>\n",
       "      <td>49.67120</td>\n",
       "      <td>SB1013</td>\n",
       "    </tr>\n",
       "  </tbody>\n",
       "</table>\n",
       "<p>136464 rows × 5 columns</p>\n",
       "</div>"
      ],
      "text/plain": [
       "        Unnamed: 0                              date     field      value  \\\n",
       "272928      272928  2022-05-23 05:21:20.257379+00:00  db_level   80.15035   \n",
       "272929      272929  2022-05-23 05:21:51.194415+00:00  db_level   70.13739   \n",
       "272930      272930  2022-05-23 05:22:22.392657+00:00  db_level  102.26990   \n",
       "272931      272931  2022-05-23 05:22:52.616672+00:00  db_level   78.22692   \n",
       "272932      272932  2022-05-23 05:23:22.881239+00:00  db_level   65.71063   \n",
       "...            ...                               ...       ...        ...   \n",
       "409387      409387  2022-05-26 22:27:31.855684+00:00  db_level   79.60939   \n",
       "409388      409388  2022-05-26 22:28:02.936844+00:00  db_level   54.64372   \n",
       "409389      409389  2022-05-26 22:30:59.937044+00:00  db_level    0.00000   \n",
       "409390      409390  2022-05-26 22:31:30.896429+00:00  db_level    0.00000   \n",
       "409391      409391  2022-05-26 22:32:01.223286+00:00  db_level   49.67120   \n",
       "\n",
       "       device_id  \n",
       "272928    SB1001  \n",
       "272929    SB1001  \n",
       "272930    SB1001  \n",
       "272931    SB1001  \n",
       "272932    SB1001  \n",
       "...          ...  \n",
       "409387    SB1013  \n",
       "409388    SB1013  \n",
       "409389    SB1013  \n",
       "409390    SB1013  \n",
       "409391    SB1013  \n",
       "\n",
       "[136464 rows x 5 columns]"
      ]
     },
     "execution_count": 30,
     "metadata": {},
     "output_type": "execute_result"
    }
   ],
   "source": [
    "values=['db_level']\n",
    "df.query(\"field in @values\")"
   ]
  },
  {
   "cell_type": "code",
   "execution_count": 31,
   "id": "b9c31274-c263-4716-abbf-26e5503d50f4",
   "metadata": {},
   "outputs": [
    {
     "name": "stdout",
     "output_type": "stream",
     "text": [
      "SB1007    88566\n",
      "SB1005    18242\n",
      "SB1012    14821\n",
      "SB1001     7768\n",
      "SB1006     3794\n",
      "SB1002     2542\n",
      "SB1013      686\n",
      "SB1008       45\n",
      "Name: device_id, dtype: int64\n"
     ]
    }
   ],
   "source": [
    "newdb_level=df.query(\"field in @values\")\n",
    "sensors=newdb_level['device_id'].value_counts()\n",
    "print(sensors)"
   ]
  },
  {
   "cell_type": "code",
   "execution_count": 32,
   "id": "e74c46ab-84da-4bd1-8ddb-2daa5e4c74c9",
   "metadata": {},
   "outputs": [
    {
     "data": {
      "image/png": "[encoded data removed]",
      "text/plain": [
       "<Figure size 432x288 with 1 Axes>"
      ]
     },
     "metadata": {
      "needs_background": "light"
     },
     "output_type": "display_data"
    }
   ],
   "source": [
    "fig,ax = plt.subplots()\n",
    "sensors.plot(ax = ax, kind = 'bar', ylabel = 'frequency',xlabel='sensor')\n",
    "plt.title('Barplot of each sensor versus its number of records')\n",
    "plt.show()"
   ]
  },
  {
   "cell_type": "code",
   "execution_count": 33,
   "id": "a03e56ea-ad41-48fa-bcf6-f44606508ce7",
   "metadata": {},
   "outputs": [
    {
     "name": "stdout",
     "output_type": "stream",
     "text": [
      "0         05:21:20.242008\n",
      "1         05:21:51.183225\n",
      "2         05:22:22.381353\n",
      "3         05:22:52.605236\n",
      "4         05:23:22.870146\n",
      "               ...       \n",
      "955243    22:27:31.852231\n",
      "955244    22:28:02.933391\n",
      "955245    22:30:59.933363\n",
      "955246    22:31:30.892709\n",
      "955247    22:32:01.219158\n",
      "Name: date, Length: 955248, dtype: object\n"
     ]
    }
   ],
   "source": [
    "time=pd.to_datetime(df['date']).dt.time\n",
    "print(time)"
   ]
  },
  {
   "cell_type": "code",
   "execution_count": null,
   "id": "be018d66-5039-4d2e-8204-9efcd1e5eea7",
   "metadata": {},
   "outputs": [],
   "source": [
    "df['Time'] = time #Adding a new column\n",
    "from plotnine import ggplot, aes, geom_line\n",
    "\n",
    "(\n",
    "    ggplot(newdb_level)  # What data to use\n",
    "    + aes(x=\"time\", y=\"sensor\")  # What variable to use\n",
    "    + geom_line()  # Geometric object to use for drawing\n",
    ")"
   ]
  },
  {
   "cell_type": "code",
   "execution_count": null,
   "id": "5c2159f4-5934-475b-aa54-e4218e358ca7",
   "metadata": {},
   "outputs": [],
   "source": []
  }
 ],
 "metadata": {
  "kernelspec": {
   "display_name": "Python 3 (ipykernel)",
   "language": "python",
   "name": "python3"
  },
  "language_info": {
   "codemirror_mode": {
    "name": "ipython",
    "version": 3
   },
   "file_extension": ".py",
   "mimetype": "text/x-python",
   "name": "python",
   "nbconvert_exporter": "python",
   "pygments_lexer": "ipython3",
   "version": "3.9.4"
  },
  "toc-showcode": false,
  "toc-showtags": false,
  "vscode": {
   "interpreter": {
    "hash": "37b867bd0d15537691c4cb44377d70e5b42e44d230dcf603dc4825f8f9e4d6a0"
   }
  }
 },
 "nbformat": 4,
 "nbformat_minor": 5
}
